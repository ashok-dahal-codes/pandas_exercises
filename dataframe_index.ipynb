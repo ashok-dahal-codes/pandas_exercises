{
 "cells": [
  {
   "cell_type": "code",
   "execution_count": 2,
   "id": "2c85062f-cbb6-4f97-8504-30f5e8200b99",
   "metadata": {},
   "outputs": [],
   "source": [
    "import pandas as pd"
   ]
  },
  {
   "cell_type": "code",
   "execution_count": 3,
   "id": "7b588e34-ad22-4e7e-8cfe-325861325fe3",
   "metadata": {},
   "outputs": [],
   "source": [
    "mydata ={\n",
    "    \"calories\":[11,34,54],\n",
    "    \"duration\" : [10,20,30],\n",
    "}\n"
   ]
  },
  {
   "cell_type": "code",
   "execution_count": 5,
   "id": "d03f49b6-b1a2-4311-87c8-b0750f910b78",
   "metadata": {},
   "outputs": [],
   "source": [
    "myvar = pd.DataFrame(mydata, index = [\"day-1\",\"day-2\",\"day-3\"])"
   ]
  },
  {
   "cell_type": "code",
   "execution_count": 6,
   "id": "80be9a53-da77-417e-b9f0-3e940a0af1db",
   "metadata": {},
   "outputs": [
    {
     "name": "stdout",
     "output_type": "stream",
     "text": [
      "       calories  duration\n",
      "day-1        11        10\n",
      "day-2        34        20\n",
      "day-3        54        30\n"
     ]
    }
   ],
   "source": [
    "print(myvar)"
   ]
  },
  {
   "cell_type": "code",
   "execution_count": 9,
   "id": "428b221a-28c9-4cd1-8ad9-c110cbad3423",
   "metadata": {},
   "outputs": [
    {
     "name": "stdout",
     "output_type": "stream",
     "text": [
      "calories    54\n",
      "duration    30\n",
      "Name: day-3, dtype: int64\n"
     ]
    }
   ],
   "source": [
    "print(myvar.loc[\"day-3\"])"
   ]
  },
  {
   "cell_type": "code",
   "execution_count": null,
   "id": "fcead514-b60e-4c8b-bc44-50bcfcc94549",
   "metadata": {},
   "outputs": [],
   "source": []
  }
 ],
 "metadata": {
  "kernelspec": {
   "display_name": "Python 3 (ipykernel)",
   "language": "python",
   "name": "python3"
  },
  "language_info": {
   "codemirror_mode": {
    "name": "ipython",
    "version": 3
   },
   "file_extension": ".py",
   "mimetype": "text/x-python",
   "name": "python",
   "nbconvert_exporter": "python",
   "pygments_lexer": "ipython3",
   "version": "3.13.5"
  }
 },
 "nbformat": 4,
 "nbformat_minor": 5
}
